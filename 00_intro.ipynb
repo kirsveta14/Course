{
  "nbformat": 4,
  "nbformat_minor": 0,
  "metadata": {
    "kernelspec": {
      "display_name": "Python 3",
      "language": "python",
      "name": "python3"
    },
    "language_info": {
      "codemirror_mode": {
        "name": "ipython",
        "version": 3
      },
      "file_extension": ".py",
      "mimetype": "text/x-python",
      "name": "python",
      "nbconvert_exporter": "python",
      "pygments_lexer": "ipython3",
      "version": "3.6.8"
    },
    "colab": {
      "name": "00_intro.ipynb",
      "provenance": [],
      "toc_visible": true,
      "include_colab_link": true
    }
  },
  "cells": [
    {
      "cell_type": "markdown",
      "metadata": {
        "id": "view-in-github",
        "colab_type": "text"
      },
      "source": [
        "<a href=\"https://colab.research.google.com/github/kirsveta14/Course/blob/master/00_intro.ipynb\" target=\"_parent\"><img src=\"https://colab.research.google.com/assets/colab-badge.svg\" alt=\"Open In Colab\"/></a>"
      ]
    },
    {
      "cell_type": "markdown",
      "metadata": {
        "id": "Y5DSWJpJtiWV",
        "colab_type": "text"
      },
      "source": [
        "# [Продвинутый анализ данных в Python](http://portal.moex.com/departments/hr/Training_and_development/internal_coach/Lists/List1/DispForm.aspx?ID=51)\n",
        "\n",
        "## Введение\n",
        "Данный мини-курс из 4х занятий - попытка максимально информативно и сжато дать общую информацию о т.н. Analysis Workflow. При условии выполнения всех заданий и самостоятельной работе по проекту в конце курса вы сможете самостоятельно провести простой анализ табличных данных - начиная от подготовки данных, заканчивая их исследованием.\n",
        "\n",
        "__Важно__: курс адаптивный и изначальное содержание может отличаться от его итоговой версии.\n",
        "\n",
        "## Cодержание курса:\n",
        "\n",
        "### Занятие 1 (ETL в python/pandas)\n",
        "- Краткое введение в курс - список литературы и источников\n",
        "- Презентация проекта для EDA\n",
        "- Очень краткое описание Tidy Data, в дополнении ссылки на источники, которые можно почитать\n",
        "- Разбор API pandas для ETL - `groupby`, `agg`, `resample`, `apply`, `pivot_table`\n",
        "- Краткое введение в method chaining - `assign`, `pipe`\n",
        "- Упражнение для самостоятельного разбора\n",
        "\n",
        "### Занятие 2 (EDA в python/matplotlib)\n",
        "- Типичный EDA - описание структуры\n",
        "- Разбор API matplotlib/seaborn для EDA - `matplotlib.pyplot`, `distplot`, `boxplot`, etc\n",
        "- Упражнение для самостоятельно разбора\n",
        "\n",
        "### Extras (ноутбки для самостоятельного изучения)\n",
        "- Python и БД - DB API 2.0, SqlAlchemy\n",
        "- MoexStyling - 2 способа добавить фирменный стиль в графики matplotlib\n",
        "\n",
        "### Занятие 3 (Разбор EDA слушателей и автоматизация графиков в pandas)\n",
        "- Разбор EDA слушателей курса\n",
        "- Автоматизация графиков в matplotlib/pyplot - подготовка к построению отчета из EDA\n",
        "\n",
        "### Занятие 4 (Отчеты в Python)\n",
        "- Знакомство с API jinja2\n",
        "- Объединямем всё воедино и делаем отчет на основании нашего EDA\n",
        "\n",
        "\n",
        "## Список полезной литературы\n",
        "\n",
        "1. Очень рекомендую данный список книг (сделал подборку по <a href=\"https://drive.google.com/open?id=0B_o24srqmY3ga1RxdnExWXVlWFE\">ссылке</a> ):\n",
        "    - Python for finance\n",
        "    - Python for data analysis\n",
        "    - Python: deeper insights to machine learning\n",
        "    - Python cookbook\n",
        "    - Data science from scratch\n",
        "\n",
        "2. Документация\n",
        "    - http://pandas.pydata.org/ - pandas\n",
        "    - https://matplotlib.org/ - matplotlib\n",
        "    - https://seaborn.pydata.org/ - seaborn\n",
        "    - https://jinja.palletsprojects.com/ - jinja2\n",
        "3. http://chrisalbon.com/ - очень хороший блог, в котором в доступном виде собрано очень много рецептов работы с pandas в т.ч.\n",
        "4. <a href=\"https://www.google.ru/url?sa=t&rct=j&q=&esrc=s&source=web&cd=2&ved=0ahUKEwjBk7Stu73UAhURZlAKHcxmCb8QFgguMAE&url=https%3A%2F%2Fwww.jstatsoft.org%2Farticle%2Fview%2Fv059i10%2Fv59i10.pdf&usg=AFQjCNGJCmyjRW1EPmG-O4BZ6hnwfjxcxA&sig2=2w1nNx5oDNFDq-saR9IJ1g&cad=rjt\">Tidy Data - Journal of Statistical Software</a> - принципы \"Tidy data\"\n",
        "\n",
        "## Вспомним, что такое Jupyter и как в нём работать"
      ]
    },
    {
      "cell_type": "code",
      "metadata": {
        "id": "xVYwr0vhtiWa",
        "colab_type": "code",
        "outputId": "db39ce77-5fc9-4e2f-c6c8-10adbaa96278",
        "colab": {
          "base_uri": "https://localhost:8080/",
          "height": 32
        }
      },
      "source": [
        "# В jupyter-ноутбуке есть несколько типов ячеек\n",
        "# Это кодовая ячейка - ячейка с кодом, в которой выполняется ваш Python код\n",
        "import datetime\n",
        "\n",
        "print(\"Точное время\", datetime.datetime.now())"
      ],
      "execution_count": 0,
      "outputs": [
        {
          "output_type": "stream",
          "text": [
            "Точное время 2020-05-23 17:31:59.717422\n"
          ],
          "name": "stdout"
        }
      ]
    },
    {
      "cell_type": "markdown",
      "metadata": {
        "id": "JrdSQbiNtiWl",
        "colab_type": "text"
      },
      "source": [
        "### Это markdown-ячейка\n",
        "Здесь вы можете красиво описывать свой код с помощью языка разметки markdown и html, в т.ч.:\n",
        "- Вести списки\n",
        "- _Форматировать_ __текст__\n",
        "- Добавлять картинки\n",
        "<img src=\"https://vignette.wikia.nocookie.net/ru.starwars/images/d/d6/Yoda_SWSB.png/revision/latest/scale-to-width-down/500?cb=20171222112613\">\n",
        "- И многое другое"
      ]
    },
    {
      "cell_type": "markdown",
      "metadata": {
        "id": "gNNi3GYpmhbz",
        "colab_type": "text"
      },
      "source": [
        "###**Цветы**\n",
        "Хочу добавить картинку:\n",
        "- 1\n",
        "- 2\n",
        "\n",
        "<img src=\"https://sun9-43.userapi.com/c845016/v845016281/d8a44/HxqyhAOxEXY.jpg?ava=1\">"
      ]
    }
  ]
}
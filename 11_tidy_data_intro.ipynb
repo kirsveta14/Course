{
  "nbformat": 4,
  "nbformat_minor": 0,
  "metadata": {
    "kernelspec": {
      "display_name": "Python 3",
      "language": "python",
      "name": "python3"
    },
    "language_info": {
      "codemirror_mode": {
        "name": "ipython",
        "version": 3
      },
      "file_extension": ".py",
      "mimetype": "text/x-python",
      "name": "python",
      "nbconvert_exporter": "python",
      "pygments_lexer": "ipython3",
      "version": "3.6.8"
    },
    "colab": {
      "name": "11_tidy_data_intro.ipynb",
      "provenance": [],
      "collapsed_sections": [],
      "include_colab_link": true
    }
  },
  "cells": [
    {
      "cell_type": "markdown",
      "metadata": {
        "id": "view-in-github",
        "colab_type": "text"
      },
      "source": [
        "<a href=\"https://colab.research.google.com/github/kirsveta14/Course/blob/learning/11_tidy_data_intro.ipynb\" target=\"_parent\"><img src=\"https://colab.research.google.com/assets/colab-badge.svg\" alt=\"Open In Colab\"/></a>"
      ]
    },
    {
      "cell_type": "code",
      "metadata": {
        "id": "s4IYPQnp0nj_",
        "colab_type": "code",
        "colab": {}
      },
      "source": [
        "import os\n",
        "import datetime\n",
        "import numpy as np\n",
        "import pandas as pd\n",
        "from tqdm import tqdm"
      ],
      "execution_count": 0,
      "outputs": []
    },
    {
      "cell_type": "code",
      "metadata": {
        "id": "PYCr8KKk1CiI",
        "colab_type": "code",
        "outputId": "f753b0a5-af26-4dca-9c8a-58e8d8e9bfac",
        "colab": {
          "base_uri": "https://localhost:8080/",
          "height": 32
        }
      },
      "source": [
        "def get_data(path=\"\"):\n",
        "    \"\"\"load covid-19 data\"\"\"\n",
        "    base_url = \"https://raw.githubusercontent.com/CSSEGISandData/COVID-19/master/csse_covid_19_data/csse_covid_19_time_series/\"\n",
        "    datasets = {\n",
        "        \"deaths\": \"time_series_covid19_deaths_global.csv\",\n",
        "        \"confirmed\": \"time_series_covid19_confirmed_global.csv\",\n",
        "        \"recovered\": \"time_series_covid19_recovered_global.csv\",\n",
        "    }\n",
        "    for k, v in tqdm(datasets.items(), desc=\"load data\"):\n",
        "        df = pd.read_csv(base_url + v, sep=\",\")\n",
        "        df.to_csv(os.path.join(path, v), sep=\",\", index=False)\n",
        "\n",
        "DIR = \"\"\n",
        "get_data(DIR)"
      ],
      "execution_count": 2,
      "outputs": [
        {
          "output_type": "stream",
          "text": [
            "load data: 100%|██████████| 3/3 [00:00<00:00,  4.42it/s]\n"
          ],
          "name": "stderr"
        }
      ]
    },
    {
      "cell_type": "markdown",
      "metadata": {
        "id": "1Yton3_V0nkL",
        "colab_type": "text"
      },
      "source": [
        "# Материалы курса [Продвинутый анализ данных в Python](http://portal.moex.com/departments/hr/Training_and_development/internal_coach/Lists/List1/DispForm.aspx?ID=51)\n",
        "\n",
        "## Краткий экскурс в Tidy Data\"\n",
        "### Cодержание:\n",
        "- Что такое \"Tidy Data\"\n",
        "- Примеры данных\n",
        "- Примеры манипуляций с данными"
      ]
    },
    {
      "cell_type": "markdown",
      "metadata": {
        "id": "Ilr3W6ft0nkM",
        "colab_type": "text"
      },
      "source": [
        "#### Что такое \"Tidy Data\"?\n",
        "Понятие \"Tidy Data\" или \"Организованных данных\" (TD, ОД) раскрывается в знаменитой статье Hadley Wickham [Tidy Data](http://vita.had.co.nz/papers/tidy-data.html)\n",
        "\n",
        "> Подобно семьям, организованные наборы данных похожи друг на друга, а каждый неорганизованный набор данных беспорядочен по-своему. TD обеспечивает стандартизированный способ связывания структуры набора данных (его физического шаблона) с его сементикой (его значением).\n",
        "\n",
        "Чтобы понять, что такое TD лучше рассмотреть это на примерах."
      ]
    },
    {
      "cell_type": "code",
      "metadata": {
        "id": "7bAQE2cJ0nkO",
        "colab_type": "code",
        "colab": {}
      },
      "source": [
        "# Создадим 2 набора данных\n",
        "df1 = pd.DataFrame({\n",
        "    'treatmenta': [np.nan, 16, 3],\n",
        "    'treatmentb': [2, 11, 1]\n",
        "}, index=pd.Series(['John Smith', 'Jane Doe', 'Mary Johnson'], name='person')\n",
        ")\n",
        "\n",
        "df2 = df1.copy().T\n",
        "df2.index = df2.index.rename('treatment')"
      ],
      "execution_count": 0,
      "outputs": []
    },
    {
      "cell_type": "code",
      "metadata": {
        "id": "9ctX4ZRW0nkT",
        "colab_type": "code",
        "outputId": "582e4c10-dfba-4955-f06a-369da6d24065",
        "colab": {
          "base_uri": "https://localhost:8080/",
          "height": 170
        }
      },
      "source": [
        "df1"
      ],
      "execution_count": 34,
      "outputs": [
        {
          "output_type": "execute_result",
          "data": {
            "text/html": [
              "<div>\n",
              "<style scoped>\n",
              "    .dataframe tbody tr th:only-of-type {\n",
              "        vertical-align: middle;\n",
              "    }\n",
              "\n",
              "    .dataframe tbody tr th {\n",
              "        vertical-align: top;\n",
              "    }\n",
              "\n",
              "    .dataframe thead th {\n",
              "        text-align: right;\n",
              "    }\n",
              "</style>\n",
              "<table border=\"1\" class=\"dataframe\">\n",
              "  <thead>\n",
              "    <tr style=\"text-align: right;\">\n",
              "      <th></th>\n",
              "      <th>treatmenta</th>\n",
              "      <th>treatmentb</th>\n",
              "    </tr>\n",
              "    <tr>\n",
              "      <th>person</th>\n",
              "      <th></th>\n",
              "      <th></th>\n",
              "    </tr>\n",
              "  </thead>\n",
              "  <tbody>\n",
              "    <tr>\n",
              "      <th>John Smith</th>\n",
              "      <td>NaN</td>\n",
              "      <td>2</td>\n",
              "    </tr>\n",
              "    <tr>\n",
              "      <th>Jane Doe</th>\n",
              "      <td>16.0</td>\n",
              "      <td>11</td>\n",
              "    </tr>\n",
              "    <tr>\n",
              "      <th>Mary Johnson</th>\n",
              "      <td>3.0</td>\n",
              "      <td>1</td>\n",
              "    </tr>\n",
              "  </tbody>\n",
              "</table>\n",
              "</div>"
            ],
            "text/plain": [
              "              treatmenta  treatmentb\n",
              "person                              \n",
              "John Smith           NaN           2\n",
              "Jane Doe            16.0          11\n",
              "Mary Johnson         3.0           1"
            ]
          },
          "metadata": {
            "tags": []
          },
          "execution_count": 34
        }
      ]
    },
    {
      "cell_type": "code",
      "metadata": {
        "id": "qj8l-RBp0nkd",
        "colab_type": "code",
        "outputId": "3174aab2-0f17-4ea6-f70c-79921a54e557",
        "colab": {
          "base_uri": "https://localhost:8080/",
          "height": 140
        }
      },
      "source": [
        "df2"
      ],
      "execution_count": 5,
      "outputs": [
        {
          "output_type": "execute_result",
          "data": {
            "text/html": [
              "<div>\n",
              "<style scoped>\n",
              "    .dataframe tbody tr th:only-of-type {\n",
              "        vertical-align: middle;\n",
              "    }\n",
              "\n",
              "    .dataframe tbody tr th {\n",
              "        vertical-align: top;\n",
              "    }\n",
              "\n",
              "    .dataframe thead th {\n",
              "        text-align: right;\n",
              "    }\n",
              "</style>\n",
              "<table border=\"1\" class=\"dataframe\">\n",
              "  <thead>\n",
              "    <tr style=\"text-align: right;\">\n",
              "      <th>person</th>\n",
              "      <th>John Smith</th>\n",
              "      <th>Jane Doe</th>\n",
              "      <th>Mary Johnson</th>\n",
              "    </tr>\n",
              "    <tr>\n",
              "      <th>treatment</th>\n",
              "      <th></th>\n",
              "      <th></th>\n",
              "      <th></th>\n",
              "    </tr>\n",
              "  </thead>\n",
              "  <tbody>\n",
              "    <tr>\n",
              "      <th>treatmenta</th>\n",
              "      <td>NaN</td>\n",
              "      <td>16.0</td>\n",
              "      <td>3.0</td>\n",
              "    </tr>\n",
              "    <tr>\n",
              "      <th>treatmentb</th>\n",
              "      <td>2.0</td>\n",
              "      <td>11.0</td>\n",
              "      <td>1.0</td>\n",
              "    </tr>\n",
              "  </tbody>\n",
              "</table>\n",
              "</div>"
            ],
            "text/plain": [
              "person      John Smith  Jane Doe  Mary Johnson\n",
              "treatment                                     \n",
              "treatmenta         NaN      16.0           3.0\n",
              "treatmentb         2.0      11.0           1.0"
            ]
          },
          "metadata": {
            "tags": []
          },
          "execution_count": 5
        }
      ]
    },
    {
      "cell_type": "markdown",
      "metadata": {
        "id": "7AFA4wzh0nkj",
        "colab_type": "text"
      },
      "source": [
        "#### Структура данных\n",
        "Большинство статистических наборов данных представляют собой двумерные массивы (таблицы), состоящие из строк и столбцов. Столбцы почти всегда имеют названия, а строки иногда имеют названия.\n",
        "\n",
        "__Что мы знаем о наших данных:__\n",
        "- В __Датафрейме 1__ приведены некоторые данные о воображаемом эксперименте в формета, который очень часто встречается в \"природе\". В датафрейме 2 столбца и три строки, столбцы и строки помечены.\n",
        "- Существует множество способов структурирования одних и тех же базовых данных.\n",
        "- В __Датафрейме 2__ приведены те же данные, что и в __Датафрейме 1__, но строки и столбцы транспонированы.\n",
        "- Данные в датафреймах одни и те же, но структура их разная\n",
        "- Информации о строках и столбцах при этом недостаточно, чтобы описать, почему две таблицы представляют собой одни и те же данные.\n",
        "- В дополнении к физической структуре нам нужно описать лежащую в основе данных __Семантику__ или значение, отображаемых в таблицах данных."
      ]
    },
    {
      "cell_type": "code",
      "metadata": {
        "id": "ByxYTRXK0nkk",
        "colab_type": "code",
        "outputId": "1ba27e42-a1b0-40cb-f0c9-a71c8b9d7967",
        "colab": {
          "base_uri": "https://localhost:8080/",
          "height": 32
        }
      },
      "source": [
        "df1.equals(df2)"
      ],
      "execution_count": 6,
      "outputs": [
        {
          "output_type": "execute_result",
          "data": {
            "text/plain": [
              "False"
            ]
          },
          "metadata": {
            "tags": []
          },
          "execution_count": 6
        }
      ]
    },
    {
      "cell_type": "markdown",
      "metadata": {
        "id": "hq3SRy3R0nkr",
        "colab_type": "text"
      },
      "source": [
        "#### Семантика данных\n",
        "- Любой набор данных представляет собой набор значений - __числа__ (если данные количественные) или __строки__ (если данные категориальные)\n",
        "- Данные могут быть организованы двумя способами. Каждое значение может принадлежать к переменной и наблюдению.:\n",
        "    - Переменные содержат все значения, которые измеряют одно и тоже наблюдение (например, высота, температура, продолжительность) для всех объектов\n",
        "    - Наблюдение содержит все значения измерений для одного объекта (например, человек, день, гонка) для всех атрибутов\n",
        "    \n",
        "Для того, чтобы организовать данные экспериментов (__Датафрейм 1, Датафрейм 22__) нам необходимо разобраться в семантике данных данных:\n",
        "- Человек - 3 уникальных имени\n",
        "- Лечение - 2 возможных варианта (a, b)\n",
        "- Результат - 5 или 6 возможных значений, в зависимости от того, как мы интерпретируем пустые значения\n",
        "- Мы знаем, что тип лечения влияет на результат эксперимента и они взаимосвязаны\n",
        "- В такой постановке задачи нашим наблюдением (объектом) будет человек-лечение-результат\n",
        "\n",
        "Важно понимать - что от того как мы сами определили объект (наблюдение) зависит и вид наших данных."
      ]
    },
    {
      "cell_type": "markdown",
      "metadata": {
        "id": "NQwSPgCZ0nks",
        "colab_type": "text"
      },
      "source": [
        "### Tidy Data - это\n",
        "\n",
        "Прежде чем двигаться дальше, давайте подведем предварительный итог и уложим концепцию __Tidy Data__ в 3 простых пункта:\n",
        "1. Каждая __переменная__ формирует __столбец__\n",
        "2. Каждое __наблюдение (объект)__ формирует __строку__ - нам важно понимать, что у нас является __наблюдением (объектом)__\n",
        "3. Каждый __тип__ единиц наблюдения формирует __таблицу__\n",
        "\n",
        "<img src=\"https://miro.medium.com/max/3840/1*7jjzhy4KknPz9hJVnC_w7w.png\">\n",
        "\n",
        "Чтобы делать преобразования неорганизованных данных в pandas есть все средства:\n",
        "- 90% операций делаются с помощью функции __pd.melt__ (но метод работает только для одной катетегории, но об этом позднее)\n",
        "- Для остальных операций необходим творческий подход\n",
        "\n",
        "Чтобы идти дальше посмотрим как работает функция __pd.melt__\n",
        "\n",
        "<img src=\"https://img1.daumcdn.net/thumb/R800x0/?scode=mtistory2&fname=https%3A%2F%2Ft1.daumcdn.net%2Fcfile%2Ftistory%2F25177F4E5863D58A0C\">"
      ]
    },
    {
      "cell_type": "code",
      "metadata": {
        "id": "mjkuULD50nkv",
        "colab_type": "code",
        "outputId": "43cd949b-726a-4cc9-e3fe-ef788aa7604f",
        "colab": {
          "base_uri": "https://localhost:8080/",
          "height": 231
        }
      },
      "source": [
        "# Создадим TD df3\n",
        "df3 = pd.melt(\n",
        "    df1.reset_index(),\n",
        "    id_vars='person',\n",
        "    var_name='treatment'\n",
        ").assign(treatment=lambda x: x['treatment'].str.replace('treatment', ''))\n",
        "\n",
        "df3"
      ],
      "execution_count": 9,
      "outputs": [
        {
          "output_type": "execute_result",
          "data": {
            "text/html": [
              "<div>\n",
              "<style scoped>\n",
              "    .dataframe tbody tr th:only-of-type {\n",
              "        vertical-align: middle;\n",
              "    }\n",
              "\n",
              "    .dataframe tbody tr th {\n",
              "        vertical-align: top;\n",
              "    }\n",
              "\n",
              "    .dataframe thead th {\n",
              "        text-align: right;\n",
              "    }\n",
              "</style>\n",
              "<table border=\"1\" class=\"dataframe\">\n",
              "  <thead>\n",
              "    <tr style=\"text-align: right;\">\n",
              "      <th></th>\n",
              "      <th>person</th>\n",
              "      <th>treatment</th>\n",
              "      <th>value</th>\n",
              "    </tr>\n",
              "  </thead>\n",
              "  <tbody>\n",
              "    <tr>\n",
              "      <th>0</th>\n",
              "      <td>John Smith</td>\n",
              "      <td>a</td>\n",
              "      <td>NaN</td>\n",
              "    </tr>\n",
              "    <tr>\n",
              "      <th>1</th>\n",
              "      <td>Jane Doe</td>\n",
              "      <td>a</td>\n",
              "      <td>16.0</td>\n",
              "    </tr>\n",
              "    <tr>\n",
              "      <th>2</th>\n",
              "      <td>Mary Johnson</td>\n",
              "      <td>a</td>\n",
              "      <td>3.0</td>\n",
              "    </tr>\n",
              "    <tr>\n",
              "      <th>3</th>\n",
              "      <td>John Smith</td>\n",
              "      <td>b</td>\n",
              "      <td>2.0</td>\n",
              "    </tr>\n",
              "    <tr>\n",
              "      <th>4</th>\n",
              "      <td>Jane Doe</td>\n",
              "      <td>b</td>\n",
              "      <td>11.0</td>\n",
              "    </tr>\n",
              "    <tr>\n",
              "      <th>5</th>\n",
              "      <td>Mary Johnson</td>\n",
              "      <td>b</td>\n",
              "      <td>1.0</td>\n",
              "    </tr>\n",
              "  </tbody>\n",
              "</table>\n",
              "</div>"
            ],
            "text/plain": [
              "         person treatment  value\n",
              "0    John Smith         a    NaN\n",
              "1      Jane Doe         a   16.0\n",
              "2  Mary Johnson         a    3.0\n",
              "3    John Smith         b    2.0\n",
              "4      Jane Doe         b   11.0\n",
              "5  Mary Johnson         b    1.0"
            ]
          },
          "metadata": {
            "tags": []
          },
          "execution_count": 9
        }
      ]
    },
    {
      "cell_type": "markdown",
      "metadata": {
        "id": "rkVthh2K0nk2",
        "colab_type": "text"
      },
      "source": [
        "Тех вводных, которые мы получили уже достаточно, чтобы понять, что не так с теми данными, которые мы загрузили в предыдущем ноутбуке - давайте загрузим один из датасетов и посмотрим подробнее"
      ]
    },
    {
      "cell_type": "code",
      "metadata": {
        "id": "n1zk8e6r0nk3",
        "colab_type": "code",
        "colab": {}
      },
      "source": [
        "DIR = \"\""
      ],
      "execution_count": 0,
      "outputs": []
    },
    {
      "cell_type": "code",
      "metadata": {
        "id": "EUTXIbTj0nk-",
        "colab_type": "code",
        "colab": {}
      },
      "source": [
        "deaths_stat = pd.read_csv(os.path.join(DIR, \"time_series_covid19_deaths_global.csv\"))"
      ],
      "execution_count": 0,
      "outputs": []
    },
    {
      "cell_type": "code",
      "metadata": {
        "id": "VXbi7wbN0nlB",
        "colab_type": "code",
        "outputId": "6d0bc1cd-9ee8-4c69-e6e3-c1c993ec1685",
        "colab": {
          "base_uri": "https://localhost:8080/",
          "height": 249
        }
      },
      "source": [
        "deaths_stat.head()"
      ],
      "execution_count": 12,
      "outputs": [
        {
          "output_type": "execute_result",
          "data": {
            "text/html": [
              "<div>\n",
              "<style scoped>\n",
              "    .dataframe tbody tr th:only-of-type {\n",
              "        vertical-align: middle;\n",
              "    }\n",
              "\n",
              "    .dataframe tbody tr th {\n",
              "        vertical-align: top;\n",
              "    }\n",
              "\n",
              "    .dataframe thead th {\n",
              "        text-align: right;\n",
              "    }\n",
              "</style>\n",
              "<table border=\"1\" class=\"dataframe\">\n",
              "  <thead>\n",
              "    <tr style=\"text-align: right;\">\n",
              "      <th></th>\n",
              "      <th>Province/State</th>\n",
              "      <th>Country/Region</th>\n",
              "      <th>Lat</th>\n",
              "      <th>Long</th>\n",
              "      <th>1/22/20</th>\n",
              "      <th>1/23/20</th>\n",
              "      <th>1/24/20</th>\n",
              "      <th>1/25/20</th>\n",
              "      <th>1/26/20</th>\n",
              "      <th>1/27/20</th>\n",
              "      <th>1/28/20</th>\n",
              "      <th>1/29/20</th>\n",
              "      <th>1/30/20</th>\n",
              "      <th>1/31/20</th>\n",
              "      <th>2/1/20</th>\n",
              "      <th>2/2/20</th>\n",
              "      <th>2/3/20</th>\n",
              "      <th>2/4/20</th>\n",
              "      <th>2/5/20</th>\n",
              "      <th>2/6/20</th>\n",
              "      <th>2/7/20</th>\n",
              "      <th>2/8/20</th>\n",
              "      <th>2/9/20</th>\n",
              "      <th>2/10/20</th>\n",
              "      <th>2/11/20</th>\n",
              "      <th>2/12/20</th>\n",
              "      <th>2/13/20</th>\n",
              "      <th>2/14/20</th>\n",
              "      <th>2/15/20</th>\n",
              "      <th>2/16/20</th>\n",
              "      <th>2/17/20</th>\n",
              "      <th>2/18/20</th>\n",
              "      <th>2/19/20</th>\n",
              "      <th>2/20/20</th>\n",
              "      <th>2/21/20</th>\n",
              "      <th>2/22/20</th>\n",
              "      <th>2/23/20</th>\n",
              "      <th>2/24/20</th>\n",
              "      <th>2/25/20</th>\n",
              "      <th>2/26/20</th>\n",
              "      <th>...</th>\n",
              "      <th>4/13/20</th>\n",
              "      <th>4/14/20</th>\n",
              "      <th>4/15/20</th>\n",
              "      <th>4/16/20</th>\n",
              "      <th>4/17/20</th>\n",
              "      <th>4/18/20</th>\n",
              "      <th>4/19/20</th>\n",
              "      <th>4/20/20</th>\n",
              "      <th>4/21/20</th>\n",
              "      <th>4/22/20</th>\n",
              "      <th>4/23/20</th>\n",
              "      <th>4/24/20</th>\n",
              "      <th>4/25/20</th>\n",
              "      <th>4/26/20</th>\n",
              "      <th>4/27/20</th>\n",
              "      <th>4/28/20</th>\n",
              "      <th>4/29/20</th>\n",
              "      <th>4/30/20</th>\n",
              "      <th>5/1/20</th>\n",
              "      <th>5/2/20</th>\n",
              "      <th>5/3/20</th>\n",
              "      <th>5/4/20</th>\n",
              "      <th>5/5/20</th>\n",
              "      <th>5/6/20</th>\n",
              "      <th>5/7/20</th>\n",
              "      <th>5/8/20</th>\n",
              "      <th>5/9/20</th>\n",
              "      <th>5/10/20</th>\n",
              "      <th>5/11/20</th>\n",
              "      <th>5/12/20</th>\n",
              "      <th>5/13/20</th>\n",
              "      <th>5/14/20</th>\n",
              "      <th>5/15/20</th>\n",
              "      <th>5/16/20</th>\n",
              "      <th>5/17/20</th>\n",
              "      <th>5/18/20</th>\n",
              "      <th>5/19/20</th>\n",
              "      <th>5/20/20</th>\n",
              "      <th>5/21/20</th>\n",
              "      <th>5/22/20</th>\n",
              "    </tr>\n",
              "  </thead>\n",
              "  <tbody>\n",
              "    <tr>\n",
              "      <th>0</th>\n",
              "      <td>NaN</td>\n",
              "      <td>Afghanistan</td>\n",
              "      <td>33.0000</td>\n",
              "      <td>65.0000</td>\n",
              "      <td>0</td>\n",
              "      <td>0</td>\n",
              "      <td>0</td>\n",
              "      <td>0</td>\n",
              "      <td>0</td>\n",
              "      <td>0</td>\n",
              "      <td>0</td>\n",
              "      <td>0</td>\n",
              "      <td>0</td>\n",
              "      <td>0</td>\n",
              "      <td>0</td>\n",
              "      <td>0</td>\n",
              "      <td>0</td>\n",
              "      <td>0</td>\n",
              "      <td>0</td>\n",
              "      <td>0</td>\n",
              "      <td>0</td>\n",
              "      <td>0</td>\n",
              "      <td>0</td>\n",
              "      <td>0</td>\n",
              "      <td>0</td>\n",
              "      <td>0</td>\n",
              "      <td>0</td>\n",
              "      <td>0</td>\n",
              "      <td>0</td>\n",
              "      <td>0</td>\n",
              "      <td>0</td>\n",
              "      <td>0</td>\n",
              "      <td>0</td>\n",
              "      <td>0</td>\n",
              "      <td>0</td>\n",
              "      <td>0</td>\n",
              "      <td>0</td>\n",
              "      <td>0</td>\n",
              "      <td>0</td>\n",
              "      <td>0</td>\n",
              "      <td>...</td>\n",
              "      <td>21</td>\n",
              "      <td>23</td>\n",
              "      <td>25</td>\n",
              "      <td>30</td>\n",
              "      <td>30</td>\n",
              "      <td>30</td>\n",
              "      <td>33</td>\n",
              "      <td>36</td>\n",
              "      <td>36</td>\n",
              "      <td>40</td>\n",
              "      <td>42</td>\n",
              "      <td>43</td>\n",
              "      <td>47</td>\n",
              "      <td>50</td>\n",
              "      <td>57</td>\n",
              "      <td>58</td>\n",
              "      <td>60</td>\n",
              "      <td>64</td>\n",
              "      <td>68</td>\n",
              "      <td>72</td>\n",
              "      <td>85</td>\n",
              "      <td>90</td>\n",
              "      <td>95</td>\n",
              "      <td>104</td>\n",
              "      <td>106</td>\n",
              "      <td>109</td>\n",
              "      <td>115</td>\n",
              "      <td>120</td>\n",
              "      <td>122</td>\n",
              "      <td>127</td>\n",
              "      <td>132</td>\n",
              "      <td>136</td>\n",
              "      <td>153</td>\n",
              "      <td>168</td>\n",
              "      <td>169</td>\n",
              "      <td>173</td>\n",
              "      <td>178</td>\n",
              "      <td>187</td>\n",
              "      <td>193</td>\n",
              "      <td>205</td>\n",
              "    </tr>\n",
              "    <tr>\n",
              "      <th>1</th>\n",
              "      <td>NaN</td>\n",
              "      <td>Albania</td>\n",
              "      <td>41.1533</td>\n",
              "      <td>20.1683</td>\n",
              "      <td>0</td>\n",
              "      <td>0</td>\n",
              "      <td>0</td>\n",
              "      <td>0</td>\n",
              "      <td>0</td>\n",
              "      <td>0</td>\n",
              "      <td>0</td>\n",
              "      <td>0</td>\n",
              "      <td>0</td>\n",
              "      <td>0</td>\n",
              "      <td>0</td>\n",
              "      <td>0</td>\n",
              "      <td>0</td>\n",
              "      <td>0</td>\n",
              "      <td>0</td>\n",
              "      <td>0</td>\n",
              "      <td>0</td>\n",
              "      <td>0</td>\n",
              "      <td>0</td>\n",
              "      <td>0</td>\n",
              "      <td>0</td>\n",
              "      <td>0</td>\n",
              "      <td>0</td>\n",
              "      <td>0</td>\n",
              "      <td>0</td>\n",
              "      <td>0</td>\n",
              "      <td>0</td>\n",
              "      <td>0</td>\n",
              "      <td>0</td>\n",
              "      <td>0</td>\n",
              "      <td>0</td>\n",
              "      <td>0</td>\n",
              "      <td>0</td>\n",
              "      <td>0</td>\n",
              "      <td>0</td>\n",
              "      <td>0</td>\n",
              "      <td>...</td>\n",
              "      <td>23</td>\n",
              "      <td>24</td>\n",
              "      <td>25</td>\n",
              "      <td>26</td>\n",
              "      <td>26</td>\n",
              "      <td>26</td>\n",
              "      <td>26</td>\n",
              "      <td>26</td>\n",
              "      <td>26</td>\n",
              "      <td>27</td>\n",
              "      <td>27</td>\n",
              "      <td>27</td>\n",
              "      <td>27</td>\n",
              "      <td>28</td>\n",
              "      <td>28</td>\n",
              "      <td>30</td>\n",
              "      <td>30</td>\n",
              "      <td>31</td>\n",
              "      <td>31</td>\n",
              "      <td>31</td>\n",
              "      <td>31</td>\n",
              "      <td>31</td>\n",
              "      <td>31</td>\n",
              "      <td>31</td>\n",
              "      <td>31</td>\n",
              "      <td>31</td>\n",
              "      <td>31</td>\n",
              "      <td>31</td>\n",
              "      <td>31</td>\n",
              "      <td>31</td>\n",
              "      <td>31</td>\n",
              "      <td>31</td>\n",
              "      <td>31</td>\n",
              "      <td>31</td>\n",
              "      <td>31</td>\n",
              "      <td>31</td>\n",
              "      <td>31</td>\n",
              "      <td>31</td>\n",
              "      <td>31</td>\n",
              "      <td>31</td>\n",
              "    </tr>\n",
              "    <tr>\n",
              "      <th>2</th>\n",
              "      <td>NaN</td>\n",
              "      <td>Algeria</td>\n",
              "      <td>28.0339</td>\n",
              "      <td>1.6596</td>\n",
              "      <td>0</td>\n",
              "      <td>0</td>\n",
              "      <td>0</td>\n",
              "      <td>0</td>\n",
              "      <td>0</td>\n",
              "      <td>0</td>\n",
              "      <td>0</td>\n",
              "      <td>0</td>\n",
              "      <td>0</td>\n",
              "      <td>0</td>\n",
              "      <td>0</td>\n",
              "      <td>0</td>\n",
              "      <td>0</td>\n",
              "      <td>0</td>\n",
              "      <td>0</td>\n",
              "      <td>0</td>\n",
              "      <td>0</td>\n",
              "      <td>0</td>\n",
              "      <td>0</td>\n",
              "      <td>0</td>\n",
              "      <td>0</td>\n",
              "      <td>0</td>\n",
              "      <td>0</td>\n",
              "      <td>0</td>\n",
              "      <td>0</td>\n",
              "      <td>0</td>\n",
              "      <td>0</td>\n",
              "      <td>0</td>\n",
              "      <td>0</td>\n",
              "      <td>0</td>\n",
              "      <td>0</td>\n",
              "      <td>0</td>\n",
              "      <td>0</td>\n",
              "      <td>0</td>\n",
              "      <td>0</td>\n",
              "      <td>0</td>\n",
              "      <td>...</td>\n",
              "      <td>313</td>\n",
              "      <td>326</td>\n",
              "      <td>336</td>\n",
              "      <td>348</td>\n",
              "      <td>364</td>\n",
              "      <td>367</td>\n",
              "      <td>375</td>\n",
              "      <td>384</td>\n",
              "      <td>392</td>\n",
              "      <td>402</td>\n",
              "      <td>407</td>\n",
              "      <td>415</td>\n",
              "      <td>419</td>\n",
              "      <td>425</td>\n",
              "      <td>432</td>\n",
              "      <td>437</td>\n",
              "      <td>444</td>\n",
              "      <td>450</td>\n",
              "      <td>453</td>\n",
              "      <td>459</td>\n",
              "      <td>463</td>\n",
              "      <td>465</td>\n",
              "      <td>470</td>\n",
              "      <td>476</td>\n",
              "      <td>483</td>\n",
              "      <td>488</td>\n",
              "      <td>494</td>\n",
              "      <td>502</td>\n",
              "      <td>507</td>\n",
              "      <td>515</td>\n",
              "      <td>522</td>\n",
              "      <td>529</td>\n",
              "      <td>536</td>\n",
              "      <td>542</td>\n",
              "      <td>548</td>\n",
              "      <td>555</td>\n",
              "      <td>561</td>\n",
              "      <td>568</td>\n",
              "      <td>575</td>\n",
              "      <td>582</td>\n",
              "    </tr>\n",
              "    <tr>\n",
              "      <th>3</th>\n",
              "      <td>NaN</td>\n",
              "      <td>Andorra</td>\n",
              "      <td>42.5063</td>\n",
              "      <td>1.5218</td>\n",
              "      <td>0</td>\n",
              "      <td>0</td>\n",
              "      <td>0</td>\n",
              "      <td>0</td>\n",
              "      <td>0</td>\n",
              "      <td>0</td>\n",
              "      <td>0</td>\n",
              "      <td>0</td>\n",
              "      <td>0</td>\n",
              "      <td>0</td>\n",
              "      <td>0</td>\n",
              "      <td>0</td>\n",
              "      <td>0</td>\n",
              "      <td>0</td>\n",
              "      <td>0</td>\n",
              "      <td>0</td>\n",
              "      <td>0</td>\n",
              "      <td>0</td>\n",
              "      <td>0</td>\n",
              "      <td>0</td>\n",
              "      <td>0</td>\n",
              "      <td>0</td>\n",
              "      <td>0</td>\n",
              "      <td>0</td>\n",
              "      <td>0</td>\n",
              "      <td>0</td>\n",
              "      <td>0</td>\n",
              "      <td>0</td>\n",
              "      <td>0</td>\n",
              "      <td>0</td>\n",
              "      <td>0</td>\n",
              "      <td>0</td>\n",
              "      <td>0</td>\n",
              "      <td>0</td>\n",
              "      <td>0</td>\n",
              "      <td>0</td>\n",
              "      <td>...</td>\n",
              "      <td>29</td>\n",
              "      <td>31</td>\n",
              "      <td>33</td>\n",
              "      <td>33</td>\n",
              "      <td>35</td>\n",
              "      <td>35</td>\n",
              "      <td>36</td>\n",
              "      <td>37</td>\n",
              "      <td>37</td>\n",
              "      <td>37</td>\n",
              "      <td>37</td>\n",
              "      <td>40</td>\n",
              "      <td>40</td>\n",
              "      <td>40</td>\n",
              "      <td>40</td>\n",
              "      <td>41</td>\n",
              "      <td>42</td>\n",
              "      <td>42</td>\n",
              "      <td>43</td>\n",
              "      <td>44</td>\n",
              "      <td>45</td>\n",
              "      <td>45</td>\n",
              "      <td>46</td>\n",
              "      <td>46</td>\n",
              "      <td>47</td>\n",
              "      <td>47</td>\n",
              "      <td>48</td>\n",
              "      <td>48</td>\n",
              "      <td>48</td>\n",
              "      <td>48</td>\n",
              "      <td>49</td>\n",
              "      <td>49</td>\n",
              "      <td>49</td>\n",
              "      <td>51</td>\n",
              "      <td>51</td>\n",
              "      <td>51</td>\n",
              "      <td>51</td>\n",
              "      <td>51</td>\n",
              "      <td>51</td>\n",
              "      <td>51</td>\n",
              "    </tr>\n",
              "    <tr>\n",
              "      <th>4</th>\n",
              "      <td>NaN</td>\n",
              "      <td>Angola</td>\n",
              "      <td>-11.2027</td>\n",
              "      <td>17.8739</td>\n",
              "      <td>0</td>\n",
              "      <td>0</td>\n",
              "      <td>0</td>\n",
              "      <td>0</td>\n",
              "      <td>0</td>\n",
              "      <td>0</td>\n",
              "      <td>0</td>\n",
              "      <td>0</td>\n",
              "      <td>0</td>\n",
              "      <td>0</td>\n",
              "      <td>0</td>\n",
              "      <td>0</td>\n",
              "      <td>0</td>\n",
              "      <td>0</td>\n",
              "      <td>0</td>\n",
              "      <td>0</td>\n",
              "      <td>0</td>\n",
              "      <td>0</td>\n",
              "      <td>0</td>\n",
              "      <td>0</td>\n",
              "      <td>0</td>\n",
              "      <td>0</td>\n",
              "      <td>0</td>\n",
              "      <td>0</td>\n",
              "      <td>0</td>\n",
              "      <td>0</td>\n",
              "      <td>0</td>\n",
              "      <td>0</td>\n",
              "      <td>0</td>\n",
              "      <td>0</td>\n",
              "      <td>0</td>\n",
              "      <td>0</td>\n",
              "      <td>0</td>\n",
              "      <td>0</td>\n",
              "      <td>0</td>\n",
              "      <td>0</td>\n",
              "      <td>...</td>\n",
              "      <td>2</td>\n",
              "      <td>2</td>\n",
              "      <td>2</td>\n",
              "      <td>2</td>\n",
              "      <td>2</td>\n",
              "      <td>2</td>\n",
              "      <td>2</td>\n",
              "      <td>2</td>\n",
              "      <td>2</td>\n",
              "      <td>2</td>\n",
              "      <td>2</td>\n",
              "      <td>2</td>\n",
              "      <td>2</td>\n",
              "      <td>2</td>\n",
              "      <td>2</td>\n",
              "      <td>2</td>\n",
              "      <td>2</td>\n",
              "      <td>2</td>\n",
              "      <td>2</td>\n",
              "      <td>2</td>\n",
              "      <td>2</td>\n",
              "      <td>2</td>\n",
              "      <td>2</td>\n",
              "      <td>2</td>\n",
              "      <td>2</td>\n",
              "      <td>2</td>\n",
              "      <td>2</td>\n",
              "      <td>2</td>\n",
              "      <td>2</td>\n",
              "      <td>2</td>\n",
              "      <td>2</td>\n",
              "      <td>2</td>\n",
              "      <td>2</td>\n",
              "      <td>2</td>\n",
              "      <td>2</td>\n",
              "      <td>3</td>\n",
              "      <td>3</td>\n",
              "      <td>3</td>\n",
              "      <td>3</td>\n",
              "      <td>3</td>\n",
              "    </tr>\n",
              "  </tbody>\n",
              "</table>\n",
              "<p>5 rows × 126 columns</p>\n",
              "</div>"
            ],
            "text/plain": [
              "  Province/State Country/Region      Lat  ...  5/20/20  5/21/20  5/22/20\n",
              "0            NaN    Afghanistan  33.0000  ...      187      193      205\n",
              "1            NaN        Albania  41.1533  ...       31       31       31\n",
              "2            NaN        Algeria  28.0339  ...      568      575      582\n",
              "3            NaN        Andorra  42.5063  ...       51       51       51\n",
              "4            NaN         Angola -11.2027  ...        3        3        3\n",
              "\n",
              "[5 rows x 126 columns]"
            ]
          },
          "metadata": {
            "tags": []
          },
          "execution_count": 12
        }
      ]
    },
    {
      "cell_type": "markdown",
      "metadata": {
        "id": "XjNdC56e0nlF",
        "colab_type": "text"
      },
      "source": [
        "Думаю, на этом этапе уже понятно, что __каждое наблюдение формирует строку__ - в нашем же случае для каждой даты в датафрейме выделен один столбец."
      ]
    },
    {
      "cell_type": "code",
      "metadata": {
        "id": "Z5FQNNGJ0nlH",
        "colab_type": "code",
        "colab": {}
      },
      "source": [
        "deaths_stat_processed = pd.melt(\n",
        "    deaths_stat,\n",
        "    id_vars=deaths_stat.columns[:4],\n",
        "    var_name=\"date\",\n",
        "    value_name=\"deaths\"\n",
        ")"
      ],
      "execution_count": 0,
      "outputs": []
    },
    {
      "cell_type": "code",
      "metadata": {
        "id": "Y6h9PebV0nlN",
        "colab_type": "code",
        "outputId": "52f9f866-9946-4103-96a7-d2f773455425",
        "colab": {
          "base_uri": "https://localhost:8080/",
          "height": 201
        }
      },
      "source": [
        "deaths_stat_processed.head()"
      ],
      "execution_count": 14,
      "outputs": [
        {
          "output_type": "execute_result",
          "data": {
            "text/html": [
              "<div>\n",
              "<style scoped>\n",
              "    .dataframe tbody tr th:only-of-type {\n",
              "        vertical-align: middle;\n",
              "    }\n",
              "\n",
              "    .dataframe tbody tr th {\n",
              "        vertical-align: top;\n",
              "    }\n",
              "\n",
              "    .dataframe thead th {\n",
              "        text-align: right;\n",
              "    }\n",
              "</style>\n",
              "<table border=\"1\" class=\"dataframe\">\n",
              "  <thead>\n",
              "    <tr style=\"text-align: right;\">\n",
              "      <th></th>\n",
              "      <th>Province/State</th>\n",
              "      <th>Country/Region</th>\n",
              "      <th>Lat</th>\n",
              "      <th>Long</th>\n",
              "      <th>date</th>\n",
              "      <th>deaths</th>\n",
              "    </tr>\n",
              "  </thead>\n",
              "  <tbody>\n",
              "    <tr>\n",
              "      <th>0</th>\n",
              "      <td>NaN</td>\n",
              "      <td>Afghanistan</td>\n",
              "      <td>33.0000</td>\n",
              "      <td>65.0000</td>\n",
              "      <td>1/22/20</td>\n",
              "      <td>0</td>\n",
              "    </tr>\n",
              "    <tr>\n",
              "      <th>1</th>\n",
              "      <td>NaN</td>\n",
              "      <td>Albania</td>\n",
              "      <td>41.1533</td>\n",
              "      <td>20.1683</td>\n",
              "      <td>1/22/20</td>\n",
              "      <td>0</td>\n",
              "    </tr>\n",
              "    <tr>\n",
              "      <th>2</th>\n",
              "      <td>NaN</td>\n",
              "      <td>Algeria</td>\n",
              "      <td>28.0339</td>\n",
              "      <td>1.6596</td>\n",
              "      <td>1/22/20</td>\n",
              "      <td>0</td>\n",
              "    </tr>\n",
              "    <tr>\n",
              "      <th>3</th>\n",
              "      <td>NaN</td>\n",
              "      <td>Andorra</td>\n",
              "      <td>42.5063</td>\n",
              "      <td>1.5218</td>\n",
              "      <td>1/22/20</td>\n",
              "      <td>0</td>\n",
              "    </tr>\n",
              "    <tr>\n",
              "      <th>4</th>\n",
              "      <td>NaN</td>\n",
              "      <td>Angola</td>\n",
              "      <td>-11.2027</td>\n",
              "      <td>17.8739</td>\n",
              "      <td>1/22/20</td>\n",
              "      <td>0</td>\n",
              "    </tr>\n",
              "  </tbody>\n",
              "</table>\n",
              "</div>"
            ],
            "text/plain": [
              "  Province/State Country/Region      Lat     Long     date  deaths\n",
              "0            NaN    Afghanistan  33.0000  65.0000  1/22/20       0\n",
              "1            NaN        Albania  41.1533  20.1683  1/22/20       0\n",
              "2            NaN        Algeria  28.0339   1.6596  1/22/20       0\n",
              "3            NaN        Andorra  42.5063   1.5218  1/22/20       0\n",
              "4            NaN         Angola -11.2027  17.8739  1/22/20       0"
            ]
          },
          "metadata": {
            "tags": []
          },
          "execution_count": 14
        }
      ]
    },
    {
      "cell_type": "markdown",
      "metadata": {
        "id": "Rc1VLZb40nlT",
        "colab_type": "text"
      },
      "source": [
        "Прежде, чем продолжить работать с этими данными нам остается только:\n",
        "- Привести названия столбцов к удобному формату - никаких специалльных символов за исклюением нижнего подчеркивания, только нижний регистр, максимально понятно\n",
        "- Привести столбцы к нужным типам - как это сделать корректно посмотрим далее:\n",
        "    - Используем метод `df.info()` чтобы определить типы данных\n",
        "    - Используем методы `df.astype(**)` чтобы преобразовать данные в нужный формат"
      ]
    },
    {
      "cell_type": "code",
      "metadata": {
        "id": "5MZHfiq60nlU",
        "colab_type": "code",
        "colab": {}
      },
      "source": [
        "# Переименовываем столбцы\n",
        "deaths_stat_processed.columns = deaths_stat_processed.columns.str.lower().str.replace(\"/\", \"_\")"
      ],
      "execution_count": 0,
      "outputs": []
    },
    {
      "cell_type": "code",
      "metadata": {
        "id": "d-3p6KuG0nla",
        "colab_type": "code",
        "outputId": "49632a57-1cd8-4f03-b5f6-9d0c6988f1e3",
        "colab": {
          "base_uri": "https://localhost:8080/",
          "height": 230
        }
      },
      "source": [
        "deaths_stat_processed.info()"
      ],
      "execution_count": 16,
      "outputs": [
        {
          "output_type": "stream",
          "text": [
            "<class 'pandas.core.frame.DataFrame'>\n",
            "RangeIndex: 32452 entries, 0 to 32451\n",
            "Data columns (total 6 columns):\n",
            " #   Column          Non-Null Count  Dtype  \n",
            "---  ------          --------------  -----  \n",
            " 0   province_state  9882 non-null   object \n",
            " 1   country_region  32452 non-null  object \n",
            " 2   lat             32452 non-null  float64\n",
            " 3   long            32452 non-null  float64\n",
            " 4   date            32452 non-null  object \n",
            " 5   deaths          32452 non-null  int64  \n",
            "dtypes: float64(2), int64(1), object(3)\n",
            "memory usage: 1.5+ MB\n"
          ],
          "name": "stdout"
        }
      ]
    },
    {
      "cell_type": "markdown",
      "metadata": {
        "id": "9eLLxx0O0nlg",
        "colab_type": "text"
      },
      "source": [
        "Что необходимо сделать:\n",
        "1. Привести `date` к типу `date`\n",
        "2. В идеале поработать с пропусками в поле `province_state` - пока оставляем без изменений"
      ]
    },
    {
      "cell_type": "code",
      "metadata": {
        "id": "tJ6oTaMA0nlh",
        "colab_type": "code",
        "colab": {}
      },
      "source": [
        "deaths_stat_processed[\"date\"] = pd.to_datetime(deaths_stat_processed[\"date\"], format=\"%m/%d/%y\")"
      ],
      "execution_count": 0,
      "outputs": []
    },
    {
      "cell_type": "code",
      "metadata": {
        "id": "PIXUqNPx0nlj",
        "colab_type": "code",
        "outputId": "c3d401d7-89be-4654-b40b-7e1e15797490",
        "colab": {
          "base_uri": "https://localhost:8080/",
          "height": 230
        }
      },
      "source": [
        "deaths_stat_processed.info()"
      ],
      "execution_count": 18,
      "outputs": [
        {
          "output_type": "stream",
          "text": [
            "<class 'pandas.core.frame.DataFrame'>\n",
            "RangeIndex: 32452 entries, 0 to 32451\n",
            "Data columns (total 6 columns):\n",
            " #   Column          Non-Null Count  Dtype         \n",
            "---  ------          --------------  -----         \n",
            " 0   province_state  9882 non-null   object        \n",
            " 1   country_region  32452 non-null  object        \n",
            " 2   lat             32452 non-null  float64       \n",
            " 3   long            32452 non-null  float64       \n",
            " 4   date            32452 non-null  datetime64[ns]\n",
            " 5   deaths          32452 non-null  int64         \n",
            "dtypes: datetime64[ns](1), float64(2), int64(1), object(2)\n",
            "memory usage: 1.5+ MB\n"
          ],
          "name": "stdout"
        }
      ]
    },
    {
      "cell_type": "code",
      "metadata": {
        "id": "sILb0HyE0nlp",
        "colab_type": "code",
        "outputId": "5c5d0852-57d7-4034-cb38-1d714a5231f1",
        "colab": {
          "base_uri": "https://localhost:8080/",
          "height": 201
        }
      },
      "source": [
        "deaths_stat_processed.head()"
      ],
      "execution_count": 19,
      "outputs": [
        {
          "output_type": "execute_result",
          "data": {
            "text/html": [
              "<div>\n",
              "<style scoped>\n",
              "    .dataframe tbody tr th:only-of-type {\n",
              "        vertical-align: middle;\n",
              "    }\n",
              "\n",
              "    .dataframe tbody tr th {\n",
              "        vertical-align: top;\n",
              "    }\n",
              "\n",
              "    .dataframe thead th {\n",
              "        text-align: right;\n",
              "    }\n",
              "</style>\n",
              "<table border=\"1\" class=\"dataframe\">\n",
              "  <thead>\n",
              "    <tr style=\"text-align: right;\">\n",
              "      <th></th>\n",
              "      <th>province_state</th>\n",
              "      <th>country_region</th>\n",
              "      <th>lat</th>\n",
              "      <th>long</th>\n",
              "      <th>date</th>\n",
              "      <th>deaths</th>\n",
              "    </tr>\n",
              "  </thead>\n",
              "  <tbody>\n",
              "    <tr>\n",
              "      <th>0</th>\n",
              "      <td>NaN</td>\n",
              "      <td>Afghanistan</td>\n",
              "      <td>33.0000</td>\n",
              "      <td>65.0000</td>\n",
              "      <td>2020-01-22</td>\n",
              "      <td>0</td>\n",
              "    </tr>\n",
              "    <tr>\n",
              "      <th>1</th>\n",
              "      <td>NaN</td>\n",
              "      <td>Albania</td>\n",
              "      <td>41.1533</td>\n",
              "      <td>20.1683</td>\n",
              "      <td>2020-01-22</td>\n",
              "      <td>0</td>\n",
              "    </tr>\n",
              "    <tr>\n",
              "      <th>2</th>\n",
              "      <td>NaN</td>\n",
              "      <td>Algeria</td>\n",
              "      <td>28.0339</td>\n",
              "      <td>1.6596</td>\n",
              "      <td>2020-01-22</td>\n",
              "      <td>0</td>\n",
              "    </tr>\n",
              "    <tr>\n",
              "      <th>3</th>\n",
              "      <td>NaN</td>\n",
              "      <td>Andorra</td>\n",
              "      <td>42.5063</td>\n",
              "      <td>1.5218</td>\n",
              "      <td>2020-01-22</td>\n",
              "      <td>0</td>\n",
              "    </tr>\n",
              "    <tr>\n",
              "      <th>4</th>\n",
              "      <td>NaN</td>\n",
              "      <td>Angola</td>\n",
              "      <td>-11.2027</td>\n",
              "      <td>17.8739</td>\n",
              "      <td>2020-01-22</td>\n",
              "      <td>0</td>\n",
              "    </tr>\n",
              "  </tbody>\n",
              "</table>\n",
              "</div>"
            ],
            "text/plain": [
              "  province_state country_region      lat     long       date  deaths\n",
              "0            NaN    Afghanistan  33.0000  65.0000 2020-01-22       0\n",
              "1            NaN        Albania  41.1533  20.1683 2020-01-22       0\n",
              "2            NaN        Algeria  28.0339   1.6596 2020-01-22       0\n",
              "3            NaN        Andorra  42.5063   1.5218 2020-01-22       0\n",
              "4            NaN         Angola -11.2027  17.8739 2020-01-22       0"
            ]
          },
          "metadata": {
            "tags": []
          },
          "execution_count": 19
        }
      ]
    },
    {
      "cell_type": "markdown",
      "metadata": {
        "id": "f-DHYtBK0nl2",
        "colab_type": "text"
      },
      "source": [
        "Аналогичные преобразования мы сделаем с остальными файлами и сохраним их для дальнейшей работы"
      ]
    },
    {
      "cell_type": "code",
      "metadata": {
        "id": "ZQswWx7C0nl2",
        "colab_type": "code",
        "colab": {}
      },
      "source": [
        "def process_data(path_from, path_to):\n",
        "    \"\"\"Process covid-19 data\"\"\"\n",
        "    datasets = {\n",
        "        \"deaths\": \"time_series_covid19_deaths_global.csv\",\n",
        "        \"confirmed\": \"time_series_covid19_confirmed_global.csv\",\n",
        "        \"recovered\": \"time_series_covid19_recovered_global.csv\",\n",
        "    }\n",
        "    for k, v in tqdm(datasets.items(), desc=\"process data\"):\n",
        "        df = pd.read_csv(os.path.join(path_from, v), sep=\",\")\n",
        "        df_processed = pd.melt(\n",
        "            df,\n",
        "            id_vars=df.columns[:4],\n",
        "            var_name=\"date\",\n",
        "            value_name=k\n",
        "        )\n",
        "        df_processed.columns = df_processed.columns.str.lower().str.replace(\"/\", \"_\")\n",
        "        df_processed[\"date\"] = pd.to_datetime(df_processed[\"date\"], format=\"%m/%d/%y\")\n",
        "        \n",
        "        # Важно сохранять данные в сериализуемый формат, чтобы нам заново не пришлось работать с типами данных\n",
        "        df_processed.to_pickle(\n",
        "            os.path.join(path_to, \"{0}.p\".format(k)),\n",
        "            compression=\"gzip\"\n",
        "        )"
      ],
      "execution_count": 0,
      "outputs": []
    },
    {
      "cell_type": "code",
      "metadata": {
        "id": "9raurxh_0nmA",
        "colab_type": "code",
        "outputId": "fa5fbf4d-9e64-408b-f464-8e41867e76f1",
        "colab": {
          "base_uri": "https://localhost:8080/",
          "height": 32
        }
      },
      "source": [
        "process_data(DIR, DIR)"
      ],
      "execution_count": 21,
      "outputs": [
        {
          "output_type": "stream",
          "text": [
            "process data: 100%|██████████| 3/3 [00:00<00:00,  5.96it/s]\n"
          ],
          "name": "stderr"
        }
      ]
    },
    {
      "cell_type": "markdown",
      "metadata": {
        "id": "4ZLmrhch0nmD",
        "colab_type": "text"
      },
      "source": [
        "Мы двигаемся дальше, а для вас домашнее задание для закрепления знаний о Tidy Data\n",
        "\n",
        "# Домашнее задание"
      ]
    },
    {
      "cell_type": "markdown",
      "metadata": {
        "id": "B-iQMg2q0nmE",
        "colab_type": "text"
      },
      "source": [
        "## Задание 1.1.0\n",
        "- У нас есть справочник ages с информацией о дате ржодения каждого человека\n",
        "- Создайте TD с использованием этих данных и df1 с учетом, что объект у нас остаётся тот же\n",
        "- Результат запишите в переменную df4"
      ]
    },
    {
      "cell_type": "code",
      "metadata": {
        "id": "z6Hj9q8h0nmE",
        "colab_type": "code",
        "colab": {
          "base_uri": "https://localhost:8080/",
          "height": 231
        },
        "outputId": "fa5d4c28-2711-4b58-c0b0-b602004367b6"
      },
      "source": [
        "df4 = df1.copy()\n",
        "df4['ages'] = ['1/20/80', '11/25/89', '12/14/90']\n",
        "df4['ages'] = pd.to_datetime(df4['ages'], format=\"%m/%d/%y\")\n",
        "df4 = pd.melt(\n",
        "    df4.reset_index(),\n",
        "    id_vars=['person', 'ages'],\n",
        "    var_name='treatment'\n",
        ").assign(treatment=lambda x: x['treatment'].str.replace('treatment', ''))\n",
        "df4"
      ],
      "execution_count": 68,
      "outputs": [
        {
          "output_type": "execute_result",
          "data": {
            "text/html": [
              "<div>\n",
              "<style scoped>\n",
              "    .dataframe tbody tr th:only-of-type {\n",
              "        vertical-align: middle;\n",
              "    }\n",
              "\n",
              "    .dataframe tbody tr th {\n",
              "        vertical-align: top;\n",
              "    }\n",
              "\n",
              "    .dataframe thead th {\n",
              "        text-align: right;\n",
              "    }\n",
              "</style>\n",
              "<table border=\"1\" class=\"dataframe\">\n",
              "  <thead>\n",
              "    <tr style=\"text-align: right;\">\n",
              "      <th></th>\n",
              "      <th>person</th>\n",
              "      <th>ages</th>\n",
              "      <th>treatment</th>\n",
              "      <th>value</th>\n",
              "    </tr>\n",
              "  </thead>\n",
              "  <tbody>\n",
              "    <tr>\n",
              "      <th>0</th>\n",
              "      <td>John Smith</td>\n",
              "      <td>1980-01-20</td>\n",
              "      <td>a</td>\n",
              "      <td>NaN</td>\n",
              "    </tr>\n",
              "    <tr>\n",
              "      <th>1</th>\n",
              "      <td>Jane Doe</td>\n",
              "      <td>1989-11-25</td>\n",
              "      <td>a</td>\n",
              "      <td>16.0</td>\n",
              "    </tr>\n",
              "    <tr>\n",
              "      <th>2</th>\n",
              "      <td>Mary Johnson</td>\n",
              "      <td>1990-12-14</td>\n",
              "      <td>a</td>\n",
              "      <td>3.0</td>\n",
              "    </tr>\n",
              "    <tr>\n",
              "      <th>3</th>\n",
              "      <td>John Smith</td>\n",
              "      <td>1980-01-20</td>\n",
              "      <td>b</td>\n",
              "      <td>2.0</td>\n",
              "    </tr>\n",
              "    <tr>\n",
              "      <th>4</th>\n",
              "      <td>Jane Doe</td>\n",
              "      <td>1989-11-25</td>\n",
              "      <td>b</td>\n",
              "      <td>11.0</td>\n",
              "    </tr>\n",
              "    <tr>\n",
              "      <th>5</th>\n",
              "      <td>Mary Johnson</td>\n",
              "      <td>1990-12-14</td>\n",
              "      <td>b</td>\n",
              "      <td>1.0</td>\n",
              "    </tr>\n",
              "  </tbody>\n",
              "</table>\n",
              "</div>"
            ],
            "text/plain": [
              "         person       ages treatment  value\n",
              "0    John Smith 1980-01-20         a    NaN\n",
              "1      Jane Doe 1989-11-25         a   16.0\n",
              "2  Mary Johnson 1990-12-14         a    3.0\n",
              "3    John Smith 1980-01-20         b    2.0\n",
              "4      Jane Doe 1989-11-25         b   11.0\n",
              "5  Mary Johnson 1990-12-14         b    1.0"
            ]
          },
          "metadata": {
            "tags": []
          },
          "execution_count": 68
        }
      ]
    },
    {
      "cell_type": "markdown",
      "metadata": {
        "id": "Sgo7ijpT0nmH",
        "colab_type": "text"
      },
      "source": [
        "## Задание 1.1.1\n",
        "- создайте TD из df2\n",
        "- результат запишите в переменную df5"
      ]
    },
    {
      "cell_type": "code",
      "metadata": {
        "id": "h3xZK0Wh0nmH",
        "colab_type": "code",
        "colab": {
          "base_uri": "https://localhost:8080/",
          "height": 231
        },
        "outputId": "08a86e8e-27aa-40a7-c913-5f30cd62f1dd"
      },
      "source": [
        "df5 = pd.melt(\n",
        "    df2.reset_index(),\n",
        "    id_vars='treatment',\n",
        "    var_name='person'\n",
        ").assign(treatment=lambda x: x['treatment'].str.replace('treatment', ''))\n",
        "df5"
      ],
      "execution_count": 48,
      "outputs": [
        {
          "output_type": "execute_result",
          "data": {
            "text/html": [
              "<div>\n",
              "<style scoped>\n",
              "    .dataframe tbody tr th:only-of-type {\n",
              "        vertical-align: middle;\n",
              "    }\n",
              "\n",
              "    .dataframe tbody tr th {\n",
              "        vertical-align: top;\n",
              "    }\n",
              "\n",
              "    .dataframe thead th {\n",
              "        text-align: right;\n",
              "    }\n",
              "</style>\n",
              "<table border=\"1\" class=\"dataframe\">\n",
              "  <thead>\n",
              "    <tr style=\"text-align: right;\">\n",
              "      <th></th>\n",
              "      <th>treatment</th>\n",
              "      <th>person</th>\n",
              "      <th>value</th>\n",
              "    </tr>\n",
              "  </thead>\n",
              "  <tbody>\n",
              "    <tr>\n",
              "      <th>0</th>\n",
              "      <td>a</td>\n",
              "      <td>John Smith</td>\n",
              "      <td>NaN</td>\n",
              "    </tr>\n",
              "    <tr>\n",
              "      <th>1</th>\n",
              "      <td>b</td>\n",
              "      <td>John Smith</td>\n",
              "      <td>2.0</td>\n",
              "    </tr>\n",
              "    <tr>\n",
              "      <th>2</th>\n",
              "      <td>a</td>\n",
              "      <td>Jane Doe</td>\n",
              "      <td>16.0</td>\n",
              "    </tr>\n",
              "    <tr>\n",
              "      <th>3</th>\n",
              "      <td>b</td>\n",
              "      <td>Jane Doe</td>\n",
              "      <td>11.0</td>\n",
              "    </tr>\n",
              "    <tr>\n",
              "      <th>4</th>\n",
              "      <td>a</td>\n",
              "      <td>Mary Johnson</td>\n",
              "      <td>3.0</td>\n",
              "    </tr>\n",
              "    <tr>\n",
              "      <th>5</th>\n",
              "      <td>b</td>\n",
              "      <td>Mary Johnson</td>\n",
              "      <td>1.0</td>\n",
              "    </tr>\n",
              "  </tbody>\n",
              "</table>\n",
              "</div>"
            ],
            "text/plain": [
              "  treatment        person  value\n",
              "0         a    John Smith    NaN\n",
              "1         b    John Smith    2.0\n",
              "2         a      Jane Doe   16.0\n",
              "3         b      Jane Doe   11.0\n",
              "4         a  Mary Johnson    3.0\n",
              "5         b  Mary Johnson    1.0"
            ]
          },
          "metadata": {
            "tags": []
          },
          "execution_count": 48
        }
      ]
    },
    {
      "cell_type": "markdown",
      "metadata": {
        "id": "fGE0uVkL0nmN",
        "colab_type": "text"
      },
      "source": [
        "## Задание 1.1.2\n",
        "- Посчитайте в скольких экспериментах принял участие каждый человек\n",
        "- Посчитайте средний возраст участников каждого из экспериментов\n",
        "- Посчитайте средний результат каждого из экспериментов"
      ]
    },
    {
      "cell_type": "code",
      "metadata": {
        "id": "ezYAsfJ_0nmN",
        "colab_type": "code",
        "colab": {
          "base_uri": "https://localhost:8080/",
          "height": 98
        },
        "outputId": "3a47e3e6-b08d-43ba-f205-2ac5fbde4cb9"
      },
      "source": [
        "df6 = pd.melt(\n",
        "    df4,\n",
        "    id_vars=['person'],\n",
        "    value_vars='treatment'\n",
        ")\n",
        "df6.groupby('person').count()['value']"
      ],
      "execution_count": 89,
      "outputs": [
        {
          "output_type": "execute_result",
          "data": {
            "text/plain": [
              "person\n",
              "Jane Doe        2\n",
              "John Smith      2\n",
              "Mary Johnson    2\n",
              "Name: value, dtype: int64"
            ]
          },
          "metadata": {
            "tags": []
          },
          "execution_count": 89
        }
      ]
    },
    {
      "cell_type": "code",
      "metadata": {
        "id": "dCyJIoIC0nmT",
        "colab_type": "code",
        "colab": {
          "base_uri": "https://localhost:8080/",
          "height": 140
        },
        "outputId": "1113a0e2-cc5a-45b6-a9f5-749b5c1f570b"
      },
      "source": [
        "df7 = pd.melt(\n",
        "    df4, \n",
        "    id_vars=['treatment', 'ages'],\n",
        "    value_vars='person'\n",
        ")\n",
        "df7.groupby('treatment')."
      ],
      "execution_count": 103,
      "outputs": [
        {
          "output_type": "execute_result",
          "data": {
            "text/html": [
              "<div>\n",
              "<style scoped>\n",
              "    .dataframe tbody tr th:only-of-type {\n",
              "        vertical-align: middle;\n",
              "    }\n",
              "\n",
              "    .dataframe tbody tr th {\n",
              "        vertical-align: top;\n",
              "    }\n",
              "\n",
              "    .dataframe thead th {\n",
              "        text-align: right;\n",
              "    }\n",
              "</style>\n",
              "<table border=\"1\" class=\"dataframe\">\n",
              "  <thead>\n",
              "    <tr style=\"text-align: right;\">\n",
              "      <th></th>\n",
              "      <th>ages</th>\n",
              "      <th>variable</th>\n",
              "      <th>value</th>\n",
              "    </tr>\n",
              "    <tr>\n",
              "      <th>treatment</th>\n",
              "      <th></th>\n",
              "      <th></th>\n",
              "      <th></th>\n",
              "    </tr>\n",
              "  </thead>\n",
              "  <tbody>\n",
              "    <tr>\n",
              "      <th>a</th>\n",
              "      <td>3</td>\n",
              "      <td>3</td>\n",
              "      <td>3</td>\n",
              "    </tr>\n",
              "    <tr>\n",
              "      <th>b</th>\n",
              "      <td>3</td>\n",
              "      <td>3</td>\n",
              "      <td>3</td>\n",
              "    </tr>\n",
              "  </tbody>\n",
              "</table>\n",
              "</div>"
            ],
            "text/plain": [
              "           ages  variable  value\n",
              "treatment                       \n",
              "a             3         3      3\n",
              "b             3         3      3"
            ]
          },
          "metadata": {
            "tags": []
          },
          "execution_count": 103
        }
      ]
    }
  ]
}